{
 "cells": [
  {
   "cell_type": "code",
   "execution_count": 2,
   "metadata": {},
   "outputs": [],
   "source": [
    "import nltk\n",
    "import pandas as pd\n",
    "import sklearn\n",
    "import re  \n",
    "from sklearn.feature_extraction.text import CountVectorizer\n",
    "from nltk.tokenize import word_tokenize\n",
    "from nltk.probability import FreqDist\n",
    "import matplotlib.pyplot as plt\n",
    "from nltk.corpus import stopwords\n",
    "## For Stemming\n",
    "from nltk.stem import PorterStemmer\n",
    "from nltk.tokenize import sent_tokenize, word_tokenize\n",
    "import os\n",
    "\n",
    "from nltk.stem.wordnet import WordNetLemmatizer\n",
    "from nltk.stem.porter import PorterStemmer\n",
    "import string"
   ]
  },
  {
   "cell_type": "code",
   "execution_count": 3,
   "metadata": {},
   "outputs": [
    {
     "name": "stdout",
     "output_type": "stream",
     "text": [
      "(2000, 2)\n",
      "(2000, 2)\n"
     ]
    }
   ],
   "source": [
    "# moviereview_v2.csv was cleaned in hw 1\n",
    "\n",
    "csv_file = 'moviereview_v2.csv'\n",
    "\n",
    "df_movie = pd.read_csv(csv_file)\n",
    "print(df_movie.shape)\n",
    "df_movie = df_movie.dropna()\n",
    "print(df_movie.shape)"
   ]
  },
  {
   "cell_type": "code",
   "execution_count": 4,
   "metadata": {},
   "outputs": [
    {
     "data": {
      "text/html": [
       "<div>\n",
       "<style scoped>\n",
       "    .dataframe tbody tr th:only-of-type {\n",
       "        vertical-align: middle;\n",
       "    }\n",
       "\n",
       "    .dataframe tbody tr th {\n",
       "        vertical-align: top;\n",
       "    }\n",
       "\n",
       "    .dataframe thead th {\n",
       "        text-align: right;\n",
       "    }\n",
       "</style>\n",
       "<table border=\"1\" class=\"dataframe\">\n",
       "  <thead>\n",
       "    <tr style=\"text-align: right;\">\n",
       "      <th></th>\n",
       "      <th>text</th>\n",
       "      <th>reviewclass</th>\n",
       "    </tr>\n",
       "  </thead>\n",
       "  <tbody>\n",
       "    <tr>\n",
       "      <th>0</th>\n",
       "      <td>plot two teen couples go to a church party dr...</td>\n",
       "      <td>neg</td>\n",
       "    </tr>\n",
       "    <tr>\n",
       "      <th>1</th>\n",
       "      <td>the happy bastard s quick movie review ndamn ...</td>\n",
       "      <td>neg</td>\n",
       "    </tr>\n",
       "    <tr>\n",
       "      <th>2</th>\n",
       "      <td>it is movies like these that make a jaded mov...</td>\n",
       "      <td>neg</td>\n",
       "    </tr>\n",
       "    <tr>\n",
       "      <th>3</th>\n",
       "      <td>quest for camelot is warner bros first featur...</td>\n",
       "      <td>neg</td>\n",
       "    </tr>\n",
       "    <tr>\n",
       "      <th>4</th>\n",
       "      <td>synopsis a mentally unstable man undergoing p...</td>\n",
       "      <td>neg</td>\n",
       "    </tr>\n",
       "  </tbody>\n",
       "</table>\n",
       "</div>"
      ],
      "text/plain": [
       "                                                text reviewclass\n",
       "0   plot two teen couples go to a church party dr...         neg\n",
       "1   the happy bastard s quick movie review ndamn ...         neg\n",
       "2   it is movies like these that make a jaded mov...         neg\n",
       "3   quest for camelot is warner bros first featur...         neg\n",
       "4   synopsis a mentally unstable man undergoing p...         neg"
      ]
     },
     "execution_count": 4,
     "metadata": {},
     "output_type": "execute_result"
    }
   ],
   "source": [
    "df_movie.head()"
   ]
  },
  {
   "cell_type": "code",
   "execution_count": 5,
   "metadata": {
    "scrolled": true
   },
   "outputs": [
    {
     "data": {
      "text/html": [
       "<div>\n",
       "<style scoped>\n",
       "    .dataframe tbody tr th:only-of-type {\n",
       "        vertical-align: middle;\n",
       "    }\n",
       "\n",
       "    .dataframe tbody tr th {\n",
       "        vertical-align: top;\n",
       "    }\n",
       "\n",
       "    .dataframe thead th {\n",
       "        text-align: right;\n",
       "    }\n",
       "</style>\n",
       "<table border=\"1\" class=\"dataframe\">\n",
       "  <thead>\n",
       "    <tr style=\"text-align: right;\">\n",
       "      <th></th>\n",
       "      <th>text</th>\n",
       "    </tr>\n",
       "  </thead>\n",
       "  <tbody>\n",
       "    <tr>\n",
       "      <th>0</th>\n",
       "      <td>plot two teen couples go to a church party dr...</td>\n",
       "    </tr>\n",
       "    <tr>\n",
       "      <th>1</th>\n",
       "      <td>the happy bastard s quick movie review ndamn ...</td>\n",
       "    </tr>\n",
       "    <tr>\n",
       "      <th>2</th>\n",
       "      <td>it is movies like these that make a jaded mov...</td>\n",
       "    </tr>\n",
       "    <tr>\n",
       "      <th>3</th>\n",
       "      <td>quest for camelot is warner bros first featur...</td>\n",
       "    </tr>\n",
       "    <tr>\n",
       "      <th>4</th>\n",
       "      <td>synopsis a mentally unstable man undergoing p...</td>\n",
       "    </tr>\n",
       "  </tbody>\n",
       "</table>\n",
       "</div>"
      ],
      "text/plain": [
       "                                                text\n",
       "0   plot two teen couples go to a church party dr...\n",
       "1   the happy bastard s quick movie review ndamn ...\n",
       "2   it is movies like these that make a jaded mov...\n",
       "3   quest for camelot is warner bros first featur...\n",
       "4   synopsis a mentally unstable man undergoing p..."
      ]
     },
     "execution_count": 5,
     "metadata": {},
     "output_type": "execute_result"
    }
   ],
   "source": [
    "reviews = df_movie[\"reviewclass\"] # keep sentiment\n",
    "\n",
    "df_movie.drop([\"reviewclass\"], axis=1, inplace=True) # drop sentiment for vectorization\n",
    "df_movie.head()"
   ]
  },
  {
   "cell_type": "code",
   "execution_count": 6,
   "metadata": {},
   "outputs": [],
   "source": [
    "'''\n",
    "my_list=[] # list to store results\n",
    "shortword = re.compile(r'\\W*\\b\\w{1,3}\\b') # filtering out all words with len <= 3\n",
    "for i in range(len(df_movie)):\n",
    "\n",
    "    my_list.append(shortword.sub('', df_movie.iloc[i,0]))\n",
    "'''"
   ]
  },
  {
   "cell_type": "code",
   "execution_count": 10,
   "metadata": {},
   "outputs": [],
   "source": [
    "my_list=[] # list to store results\n",
    "shortword = re.compile(r'\\W*\\b\\w{1,3}\\b') # filtering out all words with len <= 3\n",
    "\n",
    "my_list = [shortword.sub('', df_movie.iloc[i,0]) for i in range(len(df_movie))]"
   ]
  },
  {
   "cell_type": "code",
   "execution_count": 12,
   "metadata": {
    "scrolled": true
   },
   "outputs": [
    {
     "data": {
      "text/plain": [
       "' capsule 2176 planet mars police taking into custody accused murderer face title menace nthere fighting whole story otherwise njohn carpenter reprises many ideas from previous films especially assault precinct that film comes homage himself njohn carpenter apparently believes that action scenes which people fight something horrible same horror scenes nfor writer director horror films supposedly expert horror very mistake make nghosts mars called horror movie more just drawn fight between humans surprisingly powered alien menace addition anybody john carpenter made ghosts mars carpenter would have grounds nthis film just chock full pieces taken from assault precinct thing prince darkness fact surprising that carpenter managed many pieces previous work into this film such admittedly novel nbut that still does make really good science fiction experience nghosts mars takes place year 2176 nmars been mostly terraformed that humans walk surface without breathing gear which good film budget never mentioned gravity mars been increased somehow earth normal again making easier film nsociety changed that time advanced surprisingly little napparently culture changed that women much more positions control nand from carpenter view women have really made mess things nsociety stagnated under female control that beyond some minor technological advances society changed less years than might expect change nthe basic plot ghosts mars much common with that assault precinct except that precinct precinct been replaced somewhat tacky looking rundown martian mining colony ninstead having criminal napolean wilson this film criminal desolation williams ninstead facing hoodlums with automatic weapons police face well ghosts mars nbecause ghosts somewhat alien nature they should behave some alien manner they essentially behave human savages another lapse imagination nthe story told flashback flashback within flashback flashback within flashback within flashback nghosts mars takes place entirely night filmed almost entirely tones yellow black ncarpenter manages give powerful opening scene showing mining train rushing through martian night sound music with heavy beat nsadly what follows really buildup nthe terror creates looks little much like fugitive wannabes from rock band kiss nhis idea building suspense having bunch sudden jump scenes that sucker viewer into thinking something scary happening then prove just something boring nthese standard haunted house film shock effects that require great talent give audience nsomewhat newer also unimpressive digital decapitations some fights nwithin short stretch time have seen release mission mars planet ghosts mars nafter mission mars panned many reviewers looks better better better time goes rate ghosts mars scale scale nfollowing movie showed wife liked ghosts mars moderately more than carpenter classic assault precinct nher comment that seeing same film twice '"
      ]
     },
     "execution_count": 12,
     "metadata": {},
     "output_type": "execute_result"
    }
   ],
   "source": [
    "my_list[5]"
   ]
  },
  {
   "cell_type": "code",
   "execution_count": 16,
   "metadata": {},
   "outputs": [],
   "source": [
    "count_vec = CountVectorizer(input=\"content\")\n",
    "cv = count_vec.fit_transform(my_list)\n",
    "\n",
    "# stolen from Dr. Gates\n",
    "MyColumnNames=count_vec.get_feature_names()\n",
    "VectorizedDF_Text=pd.DataFrame(cv.toarray(),columns=MyColumnNames)\n",
    "\n",
    "NEW_Labels = reviews.to_frame()  \n",
    "\n",
    "NEW_Labels.index =NEW_Labels.index-1\n",
    "\n",
    "LabeledCLEAN_DF=VectorizedDF_Text\n",
    "LabeledCLEAN_DF[\"LABEL\"]=NEW_Labels"
   ]
  },
  {
   "cell_type": "code",
   "execution_count": 17,
   "metadata": {},
   "outputs": [
    {
     "name": "stdout",
     "output_type": "stream",
     "text": [
      "(2000, 42926)\n",
      "(2000, 9071)\n"
     ]
    }
   ],
   "source": [
    "print(VectorizedDF_Text.shape) # check size of vecorization before\n",
    "\n",
    "threshold = 10 # threshold for drop\n",
    "to_drop = [] # store indexes needed to be dropped\n",
    "\n",
    "# id all indexes that don't meet threshold\n",
    "\n",
    "'''\n",
    "for i in range (len(VectorizedDF_Text.columns)-1):\n",
    "    if sum(VectorizedDF_Text.iloc[:,i]) < threshold:\n",
    "        to_drop.append(i)\n",
    "'''        \n",
    "to_drop =  [i for i in range (len(VectorizedDF_Text.columns)-1) if sum(VectorizedDF_Text.iloc[:,i]) < threshold]  \n",
    "\n",
    "# drop columns that don't meet threshold\n",
    "VectorizedDF_Text.drop(VectorizedDF_Text.columns[to_drop],axis=1,inplace=True)\n",
    "\n",
    "print(VectorizedDF_Text.shape)  # check size of vecorization after"
   ]
  },
  {
   "cell_type": "code",
   "execution_count": null,
   "metadata": {},
   "outputs": [],
   "source": []
  }
 ],
 "metadata": {
  "kernelspec": {
   "display_name": "Python 3",
   "language": "python",
   "name": "python3"
  },
  "language_info": {
   "codemirror_mode": {
    "name": "ipython",
    "version": 3
   },
   "file_extension": ".py",
   "mimetype": "text/x-python",
   "name": "python",
   "nbconvert_exporter": "python",
   "pygments_lexer": "ipython3",
   "version": "3.7.3"
  }
 },
 "nbformat": 4,
 "nbformat_minor": 2
}
