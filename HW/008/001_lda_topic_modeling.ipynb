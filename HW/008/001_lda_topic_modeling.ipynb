{
 "cells": [
  {
   "cell_type": "markdown",
   "metadata": {},
   "source": [
    "# Topic Modeling"
   ]
  },
  {
   "cell_type": "code",
   "execution_count": 1,
   "metadata": {},
   "outputs": [
    {
     "name": "stderr",
     "output_type": "stream",
     "text": [
      "C:\\ProgramData\\Anaconda3\\lib\\site-packages\\past\\types\\oldstr.py:33: DeprecationWarning: invalid escape sequence \\d\n",
      "  \"\"\"\n",
      "C:\\ProgramData\\Anaconda3\\lib\\site-packages\\nose\\config.py:178: DeprecationWarning: invalid escape sequence \\.\n",
      "  \"\"\"\n",
      "C:\\ProgramData\\Anaconda3\\lib\\site-packages\\nltk\\decorators.py:68: DeprecationWarning: `formatargspec` is deprecated since Python 3.5. Use `signature` and the `Signature` object directly\n",
      "  regargs, varargs, varkwargs, defaults, formatvalue=lambda value: \"\"\n",
      "C:\\ProgramData\\Anaconda3\\lib\\site-packages\\nltk\\featstruct.py:1296: DeprecationWarning: invalid escape sequence \\d\n",
      "  name, n = re.sub('\\d+$', '', var.name), 2\n",
      "C:\\ProgramData\\Anaconda3\\lib\\site-packages\\nltk\\featstruct.py:2092: DeprecationWarning: invalid escape sequence \\d\n",
      "  RANGE_RE = re.compile('(-?\\d+):(-?\\d+)')\n",
      "C:\\ProgramData\\Anaconda3\\lib\\site-packages\\nltk\\sem\\evaluate.py:311: DeprecationWarning: invalid escape sequence \\ \n",
      "  \"\"\"\n",
      "C:\\ProgramData\\Anaconda3\\lib\\site-packages\\nltk\\sem\\relextract.py:135: DeprecationWarning: invalid escape sequence \\w\n",
      "  ENT = re.compile(\"&(\\w+?);\")\n",
      "C:\\ProgramData\\Anaconda3\\lib\\site-packages\\nltk\\sem\\relextract.py:414: DeprecationWarning: invalid escape sequence \\s\n",
      "  \"\"\"\n",
      "C:\\ProgramData\\Anaconda3\\lib\\site-packages\\nltk\\sem\\boxer.py:779: DeprecationWarning: invalid escape sequence \\d\n",
      "  assert re.match('^[exps]\\d+$', var), var\n",
      "C:\\ProgramData\\Anaconda3\\lib\\site-packages\\nltk\\sem\\drt.py:720: DeprecationWarning: invalid escape sequence \\ \n",
      "  + [' \\  ' + blank + line for line in term_lines[1:2]]\n",
      "C:\\ProgramData\\Anaconda3\\lib\\site-packages\\nltk\\sem\\drt.py:721: DeprecationWarning: invalid escape sequence \\ \n",
      "  + [' /\\ ' + var_string + line for line in term_lines[2:3]]\n",
      "C:\\ProgramData\\Anaconda3\\lib\\site-packages\\nltk\\grammar.py:1188: DeprecationWarning: invalid escape sequence \\*\n",
      "  \"\"\"\n",
      "C:\\ProgramData\\Anaconda3\\lib\\site-packages\\nltk\\grammar.py:1360: DeprecationWarning: invalid escape sequence \\w\n",
      "  _STANDARD_NONTERM_RE = re.compile('( [\\w/][\\w/^<>-]* ) \\s*', re.VERBOSE)\n",
      "C:\\ProgramData\\Anaconda3\\lib\\site-packages\\nltk\\text.py:583: DeprecationWarning: invalid escape sequence \\w\n",
      "  _CONTEXT_RE = re.compile('\\w+|[\\.\\!\\?]')\n",
      "C:\\ProgramData\\Anaconda3\\lib\\site-packages\\nltk\\tree.py:99: DeprecationWarning: invalid escape sequence \\ \n",
      "  \"\"\"\n",
      "C:\\ProgramData\\Anaconda3\\lib\\site-packages\\nltk\\tree.py:646: DeprecationWarning: invalid escape sequence \\s\n",
      "  if re.search('\\s', brackets):\n",
      "C:\\ProgramData\\Anaconda3\\lib\\site-packages\\nltk\\tree.py:652: DeprecationWarning: invalid escape sequence \\s\n",
      "  node_pattern = '[^\\s%s%s]+' % (open_pattern, close_pattern)\n",
      "C:\\ProgramData\\Anaconda3\\lib\\site-packages\\nltk\\tree.py:654: DeprecationWarning: invalid escape sequence \\s\n",
      "  leaf_pattern = '[^\\s%s%s]+' % (open_pattern, close_pattern)\n",
      "C:\\ProgramData\\Anaconda3\\lib\\site-packages\\nltk\\tree.py:656: DeprecationWarning: invalid escape sequence \\s\n",
      "  '%s\\s*(%s)?|%s|(%s)'\n",
      "C:\\ProgramData\\Anaconda3\\lib\\site-packages\\nltk\\tree.py:883: DeprecationWarning: invalid escape sequence \\$\n",
      "  reserved_chars = re.compile('([#\\$%&~_\\{\\}])')\n",
      "C:\\ProgramData\\Anaconda3\\lib\\site-packages\\nltk\\parse\\chart.py:1038: DeprecationWarning: invalid escape sequence \\*\n",
      "  \"\"\"\n",
      "C:\\ProgramData\\Anaconda3\\lib\\site-packages\\nltk\\parse\\chart.py:1077: DeprecationWarning: invalid escape sequence \\*\n",
      "  \"\"\"\n",
      "C:\\ProgramData\\Anaconda3\\lib\\site-packages\\nltk\\parse\\chart.py:1132: DeprecationWarning: invalid escape sequence \\*\n",
      "  \"\"\"\n",
      "C:\\ProgramData\\Anaconda3\\lib\\site-packages\\nltk\\parse\\chart.py:1152: DeprecationWarning: invalid escape sequence \\*\n",
      "  \"\"\"\n",
      "C:\\ProgramData\\Anaconda3\\lib\\site-packages\\nltk\\parse\\chart.py:1222: DeprecationWarning: invalid escape sequence \\*\n",
      "  \"\"\"\n",
      "C:\\ProgramData\\Anaconda3\\lib\\site-packages\\nltk\\parse\\chart.py:1245: DeprecationWarning: invalid escape sequence \\*\n",
      "  \"\"\"\n",
      "C:\\ProgramData\\Anaconda3\\lib\\site-packages\\nltk\\parse\\featurechart.py:273: DeprecationWarning: invalid escape sequence \\*\n",
      "  \"\"\"\n",
      "C:\\ProgramData\\Anaconda3\\lib\\site-packages\\nltk\\parse\\featurechart.py:372: DeprecationWarning: invalid escape sequence \\*\n",
      "  \"\"\"\n",
      "C:\\ProgramData\\Anaconda3\\lib\\site-packages\\nltk\\tag\\sequential.py:740: DeprecationWarning: invalid escape sequence \\w\n",
      "  elif re.match('\\w+$', word):\n",
      "C:\\ProgramData\\Anaconda3\\lib\\site-packages\\nltk\\tag\\sequential.py:734: DeprecationWarning: invalid escape sequence \\W\n",
      "  elif re.match('\\W+$', word):\n",
      "C:\\ProgramData\\Anaconda3\\lib\\site-packages\\nltk\\tag\\sequential.py:732: DeprecationWarning: invalid escape sequence \\.\n",
      "  if re.match('[0-9]+(\\.[0-9]*)?|[0-9]*\\.[0-9]+$', word):\n",
      "C:\\ProgramData\\Anaconda3\\lib\\site-packages\\nltk\\classify\\rte_classify.py:62: DeprecationWarning: invalid escape sequence \\w\n",
      "  tokenizer = RegexpTokenizer('[\\w.@:/]+|\\w+|\\$[\\d.]+')\n",
      "C:\\ProgramData\\Anaconda3\\lib\\site-packages\\nltk\\tokenize\\punkt.py:1456: DeprecationWarning: invalid escape sequence \\s\n",
      "  pat = '\\s*'.join(re.escape(c) for c in tok)\n",
      "C:\\ProgramData\\Anaconda3\\lib\\site-packages\\nltk\\tokenize\\regexp.py:103: DeprecationWarning: invalid escape sequence \\w\n",
      "  \"\"\"\n",
      "C:\\ProgramData\\Anaconda3\\lib\\site-packages\\nltk\\tokenize\\regexp.py:196: DeprecationWarning: invalid escape sequence \\w\n",
      "  \"\"\"\n",
      "C:\\ProgramData\\Anaconda3\\lib\\site-packages\\nltk\\tokenize\\repp.py:135: DeprecationWarning: invalid escape sequence \\(\n",
      "  line_regex = re.compile('^\\((\\d+), (\\d+), (.+)\\)$', re.MULTILINE)\n",
      "C:\\ProgramData\\Anaconda3\\lib\\site-packages\\nltk\\tokenize\\texttiling.py:96: DeprecationWarning: invalid escape sequence \\-\n",
      "  c for c in lowercase_text if re.match(\"[a-z\\-\\' \\n\\t]\", c)\n",
      "C:\\ProgramData\\Anaconda3\\lib\\site-packages\\nltk\\tokenize\\texttiling.py:229: DeprecationWarning: invalid escape sequence \\w\n",
      "  matches = re.finditer(\"\\w+\", text)\n",
      "C:\\ProgramData\\Anaconda3\\lib\\site-packages\\nltk\\tokenize\\toktok.py:53: DeprecationWarning: invalid escape sequence \\]\n",
      "  FUNKY_PUNCT_1 = re.compile(u'([،;؛¿!\"\\])}»›”؟¡%٪°±©®।॥…])'), r\" \\1 \"\n",
      "C:\\ProgramData\\Anaconda3\\lib\\site-packages\\nltk\\tokenize\\toktok.py:55: DeprecationWarning: invalid escape sequence \\[\n",
      "  FUNKY_PUNCT_2 = re.compile(u'([({\\[“‘„‚«‹「『])'), r\" \\1 \"\n",
      "C:\\ProgramData\\Anaconda3\\lib\\site-packages\\nltk\\tokenize\\toktok.py:62: DeprecationWarning: invalid escape sequence \\|\n",
      "  PIPE = re.compile('\\|'), ' &#124; '\n",
      "C:\\ProgramData\\Anaconda3\\lib\\site-packages\\nltk\\tokenize\\treebank.py:269: DeprecationWarning: invalid escape sequence \\]\n",
      "  \"\"\"\n",
      "C:\\ProgramData\\Anaconda3\\lib\\site-packages\\nltk\\tokenize\\treebank.py:273: DeprecationWarning: invalid escape sequence \\s\n",
      "  re.compile(pattern.replace('(?#X)', '\\s'))\n",
      "C:\\ProgramData\\Anaconda3\\lib\\site-packages\\nltk\\tokenize\\treebank.py:277: DeprecationWarning: invalid escape sequence \\s\n",
      "  re.compile(pattern.replace('(?#X)', '\\s'))\n",
      "C:\\ProgramData\\Anaconda3\\lib\\site-packages\\nltk\\classify\\maxent.py:1355: DeprecationWarning: invalid escape sequence \\ \n",
      "  \"\"\"\n",
      "C:\\ProgramData\\Anaconda3\\lib\\site-packages\\nltk\\chunk\\util.py:373: DeprecationWarning: invalid escape sequence \\S\n",
      "  _LINE_RE = re.compile('(\\S+)\\s+(\\S+)\\s+([IOB])-?(\\S+)?')\n",
      "C:\\ProgramData\\Anaconda3\\lib\\site-packages\\nltk\\chunk\\util.py:519: DeprecationWarning: invalid escape sequence \\w\n",
      "  _IEER_TYPE_RE = re.compile('<b_\\w+\\s+[^>]*?type=\"(?P<type>\\w+)\"')\n",
      "C:\\ProgramData\\Anaconda3\\lib\\site-packages\\nltk\\chunk\\util.py:528: DeprecationWarning: invalid escape sequence \\s\n",
      "  for piece_m in re.finditer('<[^>]+>|[^\\s<]+', s):\n",
      "C:\\ProgramData\\Anaconda3\\lib\\site-packages\\nltk\\chunk\\regexp.py:73: DeprecationWarning: invalid escape sequence \\{\n",
      "  _BRACKETS = re.compile('[^\\{\\}]+')\n",
      "C:\\ProgramData\\Anaconda3\\lib\\site-packages\\nltk\\chunk\\regexp.py:218: DeprecationWarning: invalid escape sequence \\{\n",
      "  s = re.sub('\\{\\}', '', s)\n",
      "C:\\ProgramData\\Anaconda3\\lib\\site-packages\\nltk\\chunk\\regexp.py:431: DeprecationWarning: invalid escape sequence \\g\n",
      "  RegexpChunkRule.__init__(self, regexp, '{\\g<chunk>}', descr)\n",
      "C:\\ProgramData\\Anaconda3\\lib\\site-packages\\nltk\\chunk\\regexp.py:477: DeprecationWarning: invalid escape sequence \\g\n",
      "  RegexpChunkRule.__init__(self, regexp, '}\\g<chink>{', descr)\n",
      "C:\\ProgramData\\Anaconda3\\lib\\site-packages\\nltk\\chunk\\regexp.py:517: DeprecationWarning: invalid escape sequence \\{\n",
      "  regexp = re.compile('\\{(?P<chunk>%s)\\}' % tag_pattern2re_pattern(tag_pattern))\n",
      "C:\\ProgramData\\Anaconda3\\lib\\site-packages\\nltk\\chunk\\regexp.py:518: DeprecationWarning: invalid escape sequence \\g\n",
      "  RegexpChunkRule.__init__(self, regexp, '\\g<chunk>', descr)\n",
      "C:\\ProgramData\\Anaconda3\\lib\\site-packages\\nltk\\chunk\\regexp.py:583: DeprecationWarning: invalid escape sequence \\g\n",
      "  RegexpChunkRule.__init__(self, regexp, '\\g<left>', descr)\n",
      "C:\\ProgramData\\Anaconda3\\lib\\site-packages\\nltk\\chunk\\regexp.py:718: DeprecationWarning: invalid escape sequence \\{\n",
      "  '(?P<left>%s)\\{(?P<right>%s)'\n",
      "C:\\ProgramData\\Anaconda3\\lib\\site-packages\\nltk\\chunk\\regexp.py:724: DeprecationWarning: invalid escape sequence \\g\n",
      "  RegexpChunkRule.__init__(self, regexp, '{\\g<left>\\g<right>', descr)\n",
      "C:\\ProgramData\\Anaconda3\\lib\\site-packages\\nltk\\chunk\\regexp.py:789: DeprecationWarning: invalid escape sequence \\}\n",
      "  '(?P<left>%s)\\}(?P<right>%s)'\n",
      "C:\\ProgramData\\Anaconda3\\lib\\site-packages\\nltk\\chunk\\regexp.py:795: DeprecationWarning: invalid escape sequence \\g\n",
      "  RegexpChunkRule.__init__(self, regexp, '\\g<left>\\g<right>}', descr)\n",
      "C:\\ProgramData\\Anaconda3\\lib\\site-packages\\nltk\\chunk\\regexp.py:908: DeprecationWarning: invalid escape sequence \\{\n",
      "  r'^((%s|<%s>)*)$' % ('([^\\{\\}<>]|\\{\\d+,?\\}|\\{\\d*,\\d+\\})+', '[^\\{\\}<>]+')\n",
      "C:\\ProgramData\\Anaconda3\\lib\\site-packages\\nltk\\chunk\\regexp.py:908: DeprecationWarning: invalid escape sequence \\{\n",
      "  r'^((%s|<%s>)*)$' % ('([^\\{\\}<>]|\\{\\d+,?\\}|\\{\\d*,\\d+\\})+', '[^\\{\\}<>]+')\n",
      "C:\\ProgramData\\Anaconda3\\lib\\site-packages\\nltk\\chunk\\regexp.py:1189: DeprecationWarning: invalid escape sequence \\.\n",
      "  \"\"\"\n",
      "C:\\ProgramData\\Anaconda3\\lib\\site-packages\\nltk\\inference\\discourse.py:44: DeprecationWarning: invalid escape sequence \\ \n",
      "  \"\"\"\n"
     ]
    },
    {
     "name": "stderr",
     "output_type": "stream",
     "text": [
      "C:\\ProgramData\\Anaconda3\\lib\\site-packages\\nltk\\stem\\lancaster.py:195: DeprecationWarning: invalid escape sequence \\*\n",
      "  valid_rule = re.compile(\"^[a-z]+\\*?\\d[a-z]*[>\\.]?$\")\n",
      "C:\\ProgramData\\Anaconda3\\lib\\site-packages\\nltk\\stem\\lancaster.py:228: DeprecationWarning: invalid escape sequence \\*\n",
      "  valid_rule = re.compile(\"^([a-z]+)(\\*?)(\\d)([a-z]*)([>\\.]?)$\")\n",
      "C:\\ProgramData\\Anaconda3\\lib\\site-packages\\nltk\\stem\\porter.py:181: DeprecationWarning: invalid escape sequence \\m\n",
      "  \"\"\"\n",
      "C:\\ProgramData\\Anaconda3\\lib\\site-packages\\nltk\\corpus\\__init__.py:116: DeprecationWarning: invalid escape sequence \\.\n",
      "  '.*\\.(test|train).*',\n",
      "C:\\ProgramData\\Anaconda3\\lib\\site-packages\\nltk\\corpus\\__init__.py:123: DeprecationWarning: invalid escape sequence \\.\n",
      "  '.*\\.(test|train).*',\n",
      "C:\\ProgramData\\Anaconda3\\lib\\site-packages\\nltk\\corpus\\__init__.py:126: DeprecationWarning: invalid escape sequence \\.\n",
      "  crubadan = LazyCorpusLoader('crubadan', CrubadanCorpusReader, '.*\\.txt')\n",
      "C:\\ProgramData\\Anaconda3\\lib\\site-packages\\nltk\\corpus\\__init__.py:128: DeprecationWarning: invalid escape sequence \\.\n",
      "  'dependency_treebank', DependencyCorpusReader, '.*\\.dp', encoding='ascii'\n",
      "C:\\ProgramData\\Anaconda3\\lib\\site-packages\\nltk\\corpus\\__init__.py:311: DeprecationWarning: invalid escape sequence \\.\n",
      "  'timit', TimitTaggedCorpusReader, '.+\\.tags', tagset='wsj', encoding='ascii'\n",
      "C:\\ProgramData\\Anaconda3\\lib\\site-packages\\nltk\\corpus\\__init__.py:335: DeprecationWarning: invalid escape sequence \\.\n",
      "  twitter_samples = LazyCorpusLoader('twitter_samples', TwitterCorpusReader, '.*\\.json')\n",
      "C:\\ProgramData\\Anaconda3\\lib\\site-packages\\nltk\\corpus\\__init__.py:364: DeprecationWarning: invalid escape sequence \\.\n",
      "  wordnet_ic = LazyCorpusLoader('wordnet_ic', WordNetICCorpusReader, '.*\\.dat')\n",
      "C:\\ProgramData\\Anaconda3\\lib\\site-packages\\nltk\\corpus\\__init__.py:374: DeprecationWarning: invalid escape sequence \\.\n",
      "  'frames/.*\\.xml',\n",
      "C:\\ProgramData\\Anaconda3\\lib\\site-packages\\nltk\\corpus\\__init__.py:383: DeprecationWarning: invalid escape sequence \\.\n",
      "  'frames/.*\\.xml',\n",
      "C:\\ProgramData\\Anaconda3\\lib\\site-packages\\nltk\\corpus\\__init__.py:392: DeprecationWarning: invalid escape sequence \\.\n",
      "  'frames/.*\\.xml',\n",
      "C:\\ProgramData\\Anaconda3\\lib\\site-packages\\nltk\\corpus\\__init__.py:401: DeprecationWarning: invalid escape sequence \\.\n",
      "  'frames/.*\\.xml',\n",
      "C:\\ProgramData\\Anaconda3\\lib\\site-packages\\nltk\\corpus\\reader\\plaintext.py:62: DeprecationWarning: invalid escape sequence \\.\n",
      "  \"\"\"\n",
      "C:\\ProgramData\\Anaconda3\\lib\\site-packages\\nltk\\corpus\\reader\\util.py:635: DeprecationWarning: invalid escape sequence \\d\n",
      "  if re.match('^\\d+-\\d+', line) is not None:\n",
      "C:\\ProgramData\\Anaconda3\\lib\\site-packages\\nltk\\corpus\\reader\\util.py:859: DeprecationWarning: invalid escape sequence \\s\n",
      "  if re.match('======+\\s*$', line):\n",
      "C:\\ProgramData\\Anaconda3\\lib\\site-packages\\nltk\\corpus\\reader\\api.py:80: DeprecationWarning: invalid escape sequence \\.\n",
      "  m = re.match('(.*\\.zip)/?(.*)$|', root)\n",
      "C:\\ProgramData\\Anaconda3\\lib\\site-packages\\nltk\\corpus\\reader\\timit.py:168: DeprecationWarning: invalid escape sequence \\.\n",
      "  encoding = [('.*\\.wav', None), ('.*', encoding)]\n",
      "C:\\ProgramData\\Anaconda3\\lib\\site-packages\\nltk\\corpus\\reader\\bracket_parse.py:214: DeprecationWarning: invalid escape sequence \\.\n",
      "  'alpino\\.xml',\n",
      "C:\\ProgramData\\Anaconda3\\lib\\site-packages\\nltk\\corpus\\reader\\xmldocs.py:233: DeprecationWarning: invalid escape sequence \\s\n",
      "  _XML_TAG_NAME = re.compile('<\\s*/?\\s*([^\\s>]+)')\n",
      "C:\\ProgramData\\Anaconda3\\lib\\site-packages\\nltk\\toolbox.py:210: DeprecationWarning: invalid escape sequence \\_\n",
      "  \"\"\"\n",
      "C:\\ProgramData\\Anaconda3\\lib\\site-packages\\nltk\\corpus\\reader\\bnc.py:29: DeprecationWarning: invalid escape sequence \\w\n",
      "  \"\"\"\n",
      "C:\\ProgramData\\Anaconda3\\lib\\site-packages\\nltk\\corpus\\reader\\switchboard.py:116: DeprecationWarning: invalid escape sequence \\w\n",
      "  _UTTERANCE_RE = re.compile('(\\w+)\\.(\\d+)\\:\\s*(.*)')\n",
      "C:\\ProgramData\\Anaconda3\\lib\\site-packages\\nltk\\corpus\\reader\\childes.py:282: DeprecationWarning: invalid escape sequence \\d\n",
      "  m = re.match(\"P(\\d+)Y(\\d+)M?(\\d?\\d?)D?\", age_year)\n",
      "C:\\ProgramData\\Anaconda3\\lib\\site-packages\\nltk\\corpus\\reader\\framenet.py:2761: DeprecationWarning: invalid escape sequence \\w\n",
      "  '''\n",
      "C:\\ProgramData\\Anaconda3\\lib\\site-packages\\nltk\\corpus\\reader\\udhr.py:31: DeprecationWarning: invalid escape sequence \\-\n",
      "  ('Abkhaz\\-Cyrillic\\+Abkh', 'cp1251'),\n",
      "C:\\ProgramData\\Anaconda3\\lib\\site-packages\\nltk\\corpus\\reader\\twitter.py:54: DeprecationWarning: invalid escape sequence \\.\n",
      "  \"\"\"\n",
      "C:\\ProgramData\\Anaconda3\\lib\\site-packages\\nltk\\draw\\cfg.py:166: DeprecationWarning: invalid escape sequence \\s\n",
      "  _ARROW_RE = re.compile(\"\\s*(->|(\" + ARROW + \"))\\s*\")\n",
      "C:\\ProgramData\\Anaconda3\\lib\\site-packages\\nltk\\draw\\cfg.py:166: DeprecationWarning: invalid escape sequence \\s\n",
      "  _ARROW_RE = re.compile(\"\\s*(->|(\" + ARROW + \"))\\s*\")\n",
      "C:\\ProgramData\\Anaconda3\\lib\\site-packages\\nltk\\draw\\cfg.py:171: DeprecationWarning: invalid escape sequence \\s\n",
      "  + \"))\\s*\"\n",
      "C:\\ProgramData\\Anaconda3\\lib\\site-packages\\nltk\\ccg\\combinator.py:232: DeprecationWarning: invalid escape sequence \\Y\n",
      "  \"\"\"\n",
      "C:\\ProgramData\\Anaconda3\\lib\\site-packages\\nltk\\treetransforms.py:108: DeprecationWarning: invalid escape sequence \\ \n",
      "  \"\"\"\n"
     ]
    }
   ],
   "source": [
    "#imports\n",
    "import os\n",
    "#import codecs\n",
    "\n",
    "import pandas as pd\n",
    "import numpy as np\n",
    "\n",
    "import pyLDAvis.sklearn as LDAvis\n",
    "import pyLDAvis\n",
    "\n",
    "# https://scikit-learn.org/stable/modules/generated/sklearn.feature_extraction.text.CountVectorizer.html\n",
    "from sklearn.feature_extraction.text import CountVectorizer, TfidfVectorizer\n",
    "from nltk.tokenize import word_tokenize\n",
    "from sklearn.decomposition import NMF, LatentDirichletAllocation\n",
    "\n",
    "import warnings\n",
    "warnings.filterwarnings('ignore')"
   ]
  },
  {
   "cell_type": "code",
   "execution_count": 2,
   "metadata": {},
   "outputs": [],
   "source": [
    "# functions\n",
    "def print_topics(model, vectorizer, top_n=10):\n",
    "    for idx, topic in enumerate(model.components_):\n",
    "        print(\"Topic %d:\" % (idx))\n",
    "        print([(vectorizer.get_feature_names()[i], topic[i])\n",
    "                        for i in topic.argsort()[:-top_n - 1:-1]])"
   ]
  },
  {
   "cell_type": "code",
   "execution_count": 3,
   "metadata": {},
   "outputs": [],
   "source": [
    "file_path = \"C:\\\\Users\\\\dvjr2\\\\Google Drive\\\\Documents\\\\Syracuse\\\\IST_736_TextMining\\\\HW\\\\008\\\\Homework_8_data\\\\110_All\"\n",
    "\n",
    "file_list = []\n",
    "essay_list = []\n",
    "for item in os.listdir(file_path):\n",
    "    \n",
    "    file_list.append(file_path + \"\\\\\" + item)  \n",
    "    essay_list.append(item)\n",
    "    \n",
    "#print(file_list[0])\n",
    "#print(essay_list[0])"
   ]
  },
  {
   "cell_type": "code",
   "execution_count": 4,
   "metadata": {},
   "outputs": [],
   "source": [
    "no_features = 1000\n",
    "\n",
    "#lda_cv = CountVectorizer(input = 'filename', analyzer = 'word', stop_words = 'english', lowercase = True, \n",
    "#encoding=\"ISO-8859-1\")\n",
    "lda_cv = CountVectorizer(input = 'filename', analyzer = 'word', stop_words = 'english', lowercase = True, \n",
    "                         max_df = 0.95, min_df = 2, max_features = no_features, encoding=\"ISO-8859-1\")\n",
    "#lda_cv = CountVectorizer(input = 'filename', analyzer = 'word', lowercase = True, encoding=\"ISO-8859-1\")\n",
    "#lda_cv = CountVectorizer(input = 'filename', encoding=\"ISO-8859-1\")"
   ]
  },
  {
   "cell_type": "code",
   "execution_count": 5,
   "metadata": {
    "scrolled": false
   },
   "outputs": [],
   "source": [
    "CV = lda_cv.fit_transform(file_list)\n",
    "lda_columns = lda_cv.get_feature_names()\n",
    "df_corpus_lda = pd.DataFrame(CV.toarray(),columns = lda_columns)\n",
    "# print(CorpusDF_DH)"
   ]
  },
  {
   "cell_type": "code",
   "execution_count": 6,
   "metadata": {},
   "outputs": [],
   "source": [
    "no_topics = 10\n",
    "max_iterations = 10\n",
    "learn_off = 50\n",
    "random = 0\n",
    "\n",
    "lda_model = LatentDirichletAllocation(n_components = no_topics, max_iter = max_iterations, learning_method='online',\n",
    "                                         learning_offset = learn_off,random_state = random)\n",
    "#lda_model = LatentDirichletAllocation(n_components=NUM_TOPICS, max_iter=10, learning_method='online')\n",
    "LDA_DH_Model = lda_model.fit_transform(CV)"
   ]
  },
  {
   "cell_type": "code",
   "execution_count": 7,
   "metadata": {},
   "outputs": [
    {
     "name": "stdout",
     "output_type": "stream",
     "text": [
      "(429, 10)\n",
      "[3.16301093e-01 1.90656484e-01 4.14883936e-02 2.47682982e-01\n",
      " 5.05022048e-04 1.46345468e-01 4.97089103e-02 7.26501397e-03\n",
      " 2.33165122e-05 2.33167526e-05]\n"
     ]
    }
   ],
   "source": [
    "print(LDA_DH_Model.shape) # docs | topics\n",
    "print(LDA_DH_Model[0])"
   ]
  },
  {
   "cell_type": "code",
   "execution_count": 8,
   "metadata": {},
   "outputs": [
    {
     "name": "stdout",
     "output_type": "stream",
     "text": [
      "Topic 0:\n",
      "[('energy', 2836.761207519992), ('carolina', 2554.9989452187947), ('south', 1879.490764624015), ('water', 1832.5873466922242), ('development', 1313.890709391999), ('yield', 1230.3496808397235), ('resources', 1171.1526391853101), ('county', 1062.2860591056742), ('land', 1027.2728828387656), ('balance', 1011.650943087348)]\n",
      "Topic 1:\n",
      "[('housing', 3655.061033865389), ('appropriations', 2860.4941258693775), ('money', 2030.3852561928488), ('billion', 1801.6936225689403), ('yield', 1562.5150391405675), ('budget', 1450.9354387030446), ('agencies', 1420.247134022718), ('earmarks', 1395.357267895933), ('simply', 1379.6464813168486), ('process', 1378.388888879695)]\n",
      "Topic 2:\n",
      "[('tax', 6630.034252710589), ('budget', 5207.210490637145), ('majority', 3859.3036652422174), ('money', 3701.566906792567), ('spending', 3550.1506913318944), ('democrats', 3203.5026569078827), ('increase', 2942.78861928174), ('billion', 2864.1218320255025), ('republican', 2645.167620315314), ('taxes', 2504.503055951233)]\n",
      "Topic 3:\n",
      "[('veterans', 4245.64564566671), ('military', 3089.492965950283), ('texas', 2977.0451794049104), ('children', 2901.94974741916), ('department', 2845.387864982974), ('administration', 2323.4499902263033), ('law', 2216.9748551092534), ('rights', 2209.4082908754417), ('families', 2205.301862979818), ('programs', 2202.9512331574183)]\n",
      "Topic 4:\n",
      "[('energy', 4347.3706067869), ('oil', 2304.4649896291194), ('tax', 1774.4318045838022), ('administration', 1493.0534965454829), ('companies', 1478.3509276187278), ('york', 1358.3032379288595), ('small', 1213.458343625995), ('economy', 1185.9559331924015), ('law', 1163.030638467372), ('policy', 1156.801939699386)]\n",
      "Topic 5:\n",
      "[('intelligence', 2836.7284560169473), ('law', 2286.13461549725), ('border', 1975.7580529760332), ('military', 1932.1286472592335), ('foreign', 1795.4937804713804), ('mexico', 1587.2160009232698), ('things', 1542.7330004257626), ('protect', 1335.9516379410848), ('life', 1207.143736960297), ('11', 1164.1965339381525)]\n",
      "Topic 6:\n",
      "[('oil', 8639.83602005124), ('energy', 8322.213640262964), ('gas', 4616.6674177210625), ('prices', 2083.407023832323), ('natural', 1882.2540368659584), ('price', 1651.554953679203), ('really', 1631.0883564042783), ('got', 1514.4013569322149), ('coal', 1453.1272589257792), ('lot', 1447.5990461782558)]\n",
      "Topic 7:\n",
      "[('care', 3092.252825120224), ('medicare', 1651.2592633979043), ('insurance', 1554.439521472978), ('children', 1407.9869055208244), ('medical', 1332.53736185685), ('texas', 1243.6460646640473), ('things', 909.9654599923624), ('energy', 886.8322300684617), ('cost', 862.0137514473071), ('money', 810.1042215935158)]\n",
      "Topic 8:\n",
      "[('children', 3232.7282469333136), ('mrs', 2984.050802406422), ('families', 2638.495685985647), ('trade', 2461.615236186773), ('care', 2269.364876456409), ('education', 2039.4428663858573), ('college', 1607.9413687690217), ('workers', 1605.1165498747198), ('tax', 1559.647872472424), ('minnesota', 1477.749946351338)]\n",
      "Topic 9:\n",
      "[('ms', 8523.81802389001), ('florida', 1980.1681539877256), ('children', 1889.7001488737294), ('administration', 1382.39636895928), ('families', 1230.0000290905207), ('illinois', 1152.845880516431), ('davis', 1149.6413759192687), ('yield', 988.6029203688776), ('care', 982.1399013056742), ('education', 963.2197088372591)]\n"
     ]
    }
   ],
   "source": [
    "print_topics(lda_model, lda_cv)"
   ]
  },
  {
   "cell_type": "code",
   "execution_count": null,
   "metadata": {},
   "outputs": [
    {
     "name": "stderr",
     "output_type": "stream",
     "text": [
      "C:\\ProgramData\\Anaconda3\\lib\\site-packages\\pyLDAvis\\_prepare.py:257: FutureWarning: Sorting because non-concatenation axis is not aligned. A future version\n",
      "of pandas will change to not sort by default.\n",
      "\n",
      "To accept the future behavior, pass 'sort=False'.\n",
      "\n",
      "To retain the current behavior and silence the warning, pass 'sort=True'.\n",
      "\n",
      "  return pd.concat([default_term_info] + list(topic_dfs))\n"
     ]
    },
    {
     "name": "stdout",
     "output_type": "stream",
     "text": [
      "\n",
      "Note: if you're in the IPython notebook, pyLDAvis.show() is not the best command\n",
      "      to use. Consider using pyLDAvis.display(), or pyLDAvis.enable_notebook().\n",
      "      See more information at http://pyLDAvis.github.io/quickstart.html .\n",
      "\n",
      "You must interrupt the kernel to end this command\n",
      "\n",
      "Serving to http://127.0.0.1:8894/    [Ctrl-C to exit]\n"
     ]
    },
    {
     "name": "stderr",
     "output_type": "stream",
     "text": [
      "127.0.0.1 - - [27/Nov/2019 21:47:15] \"GET / HTTP/1.1\" 200 -\n",
      "127.0.0.1 - - [27/Nov/2019 21:47:15] \"GET /LDAvis.css HTTP/1.1\" 200 -\n",
      "127.0.0.1 - - [27/Nov/2019 21:47:15] \"GET /d3.js HTTP/1.1\" 200 -\n",
      "127.0.0.1 - - [27/Nov/2019 21:47:15] \"GET /LDAvis.js HTTP/1.1\" 200 -\n",
      "127.0.0.1 - - [27/Nov/2019 21:47:16] code 404, message Not Found\n",
      "127.0.0.1 - - [27/Nov/2019 21:47:16] \"GET /favicon.ico HTTP/1.1\" 404 -\n"
     ]
    }
   ],
   "source": [
    "panel = LDAvis.prepare(lda_model, CV, lda_cv, mds='tsne')\n",
    "'''\n",
    "Note: if you're in the IPython notebook, pyLDAvis.show() is not the best command\n",
    "      to use. Consider using pyLDAvis.display(), or pyLDAvis.enable_notebook().\n",
    "'''\n",
    "pyLDAvis.show(panel)\n",
    "#pyLDAvis.display(panel)\n",
    "#pyLDAvis.enable_notebook(panel, sort=True)"
   ]
  },
  {
   "cell_type": "code",
   "execution_count": null,
   "metadata": {},
   "outputs": [],
   "source": [
    "'''\n",
    "for i in file_list:\n",
    "    outputFile = codecs.open(i, encoding = \"ISO-8859-1\")\n",
    "    data = outputFile.read()\n",
    "    outputFile.close()\n",
    "    file = open(i, 'w')\n",
    "    file.write(data)\n",
    "    file.close()\n",
    "'''\n"
   ]
  },
  {
   "cell_type": "code",
   "execution_count": null,
   "metadata": {},
   "outputs": [],
   "source": []
  }
 ],
 "metadata": {
  "kernelspec": {
   "display_name": "Python 3",
   "language": "python",
   "name": "python3"
  },
  "language_info": {
   "codemirror_mode": {
    "name": "ipython",
    "version": 3
   },
   "file_extension": ".py",
   "mimetype": "text/x-python",
   "name": "python",
   "nbconvert_exporter": "python",
   "pygments_lexer": "ipython3",
   "version": "3.7.3"
  }
 },
 "nbformat": 4,
 "nbformat_minor": 2
}
