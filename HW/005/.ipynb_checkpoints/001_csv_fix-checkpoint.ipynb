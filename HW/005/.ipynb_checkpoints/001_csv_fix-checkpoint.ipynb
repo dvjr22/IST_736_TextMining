{
 "cells": [
  {
   "cell_type": "code",
   "execution_count": 50,
   "metadata": {},
   "outputs": [],
   "source": [
    "import csv\n",
    "import re\n",
    "import pandas as pd\n",
    "import numpy as np\n",
    "\n",
    "from sklearn.metrics import cohen_kappa_score"
   ]
  },
  {
   "cell_type": "code",
   "execution_count": 49,
   "metadata": {},
   "outputs": [],
   "source": [
    "#read_file = 'Batch_3847752_batch_results.csv'\n",
    "#file = open('Batch_3847752_batch_results_v2.csv', 'w')\n",
    "line_count = 1\n",
    "new_line = 3\n",
    "\n",
    "with open(read_file) as csvfile:\n",
    "    reader = csv.reader(csvfile, delimiter = ',')\n",
    "    for row in reader:\n",
    "        \n",
    "        #print(row)\n",
    "        if line_count%new_line == 0:\n",
    "            line = line + ', ' + row[-1] + '\\n'\n",
    "            file.write(line)\n",
    "        elif line_count%new_line == 2:\n",
    "            line = line + ', ' + row[-1]\n",
    "        else:\n",
    "            line = row[0] + ',' + row[-1]\n",
    "        \n",
    "        line_count = line_count+1\n",
    "        \n",
    "file.close()"
   ]
  },
  {
   "cell_type": "code",
   "execution_count": 70,
   "metadata": {},
   "outputs": [
    {
     "name": "stdout",
     "output_type": "stream",
     "text": [
      "(100, 5)\n",
      "(99, 5)\n"
     ]
    }
   ],
   "source": [
    "csv_file = 'Batch_3847752_batch_results_v2.csv'\n",
    "\n",
    "df_movie = pd.read_csv(csv_file)\n",
    "print(df_movie.shape)\n",
    "df_movie = df_movie.dropna()\n",
    "print(df_movie.shape)"
   ]
  },
  {
   "cell_type": "code",
   "execution_count": 76,
   "metadata": {
    "scrolled": true
   },
   "outputs": [
    {
     "data": {
      "text/html": [
       "<div>\n",
       "<style scoped>\n",
       "    .dataframe tbody tr th:only-of-type {\n",
       "        vertical-align: middle;\n",
       "    }\n",
       "\n",
       "    .dataframe tbody tr th {\n",
       "        vertical-align: top;\n",
       "    }\n",
       "\n",
       "    .dataframe thead th {\n",
       "        text-align: right;\n",
       "    }\n",
       "</style>\n",
       "<table border=\"1\" class=\"dataframe\">\n",
       "  <thead>\n",
       "    <tr style=\"text-align: right;\">\n",
       "      <th></th>\n",
       "      <th>text</th>\n",
       "      <th>worker1</th>\n",
       "      <th>worker2</th>\n",
       "      <th>worker3</th>\n",
       "      <th>orginal</th>\n",
       "    </tr>\n",
       "  </thead>\n",
       "  <tbody>\n",
       "    <tr>\n",
       "      <th>0</th>\n",
       "      <td>plot two teen couples go to a church party dri...</td>\n",
       "      <td>Neutral</td>\n",
       "      <td>Positive</td>\n",
       "      <td>Neutral</td>\n",
       "      <td>Negative</td>\n",
       "    </tr>\n",
       "    <tr>\n",
       "      <th>1</th>\n",
       "      <td>the happy bastard s quick movie review ndamn t...</td>\n",
       "      <td>Neutral</td>\n",
       "      <td>Neutral</td>\n",
       "      <td>Neutral</td>\n",
       "      <td>Negative</td>\n",
       "    </tr>\n",
       "    <tr>\n",
       "      <th>2</th>\n",
       "      <td>it is movies like these that make a jaded movi...</td>\n",
       "      <td>Neutral</td>\n",
       "      <td>Neutral</td>\n",
       "      <td>Positive</td>\n",
       "      <td>Negative</td>\n",
       "    </tr>\n",
       "    <tr>\n",
       "      <th>3</th>\n",
       "      <td>quest for camelot is warner bros first feature...</td>\n",
       "      <td>Positive</td>\n",
       "      <td>Neutral</td>\n",
       "      <td>Neutral</td>\n",
       "      <td>Negative</td>\n",
       "    </tr>\n",
       "    <tr>\n",
       "      <th>4</th>\n",
       "      <td>synopsis a mentally unstable man undergoing ps...</td>\n",
       "      <td>Positive</td>\n",
       "      <td>Neutral</td>\n",
       "      <td>Neutral</td>\n",
       "      <td>Negative</td>\n",
       "    </tr>\n",
       "  </tbody>\n",
       "</table>\n",
       "</div>"
      ],
      "text/plain": [
       "                                                text   worker1    worker2  \\\n",
       "0  plot two teen couples go to a church party dri...   Neutral   Positive   \n",
       "1  the happy bastard s quick movie review ndamn t...   Neutral    Neutral   \n",
       "2  it is movies like these that make a jaded movi...   Neutral    Neutral   \n",
       "3  quest for camelot is warner bros first feature...  Positive    Neutral   \n",
       "4  synopsis a mentally unstable man undergoing ps...  Positive    Neutral   \n",
       "\n",
       "     worker3   orginal  \n",
       "0    Neutral  Negative  \n",
       "1    Neutral  Negative  \n",
       "2   Positive  Negative  \n",
       "3    Neutral  Negative  \n",
       "4    Neutral  Negative  "
      ]
     },
     "execution_count": 76,
     "metadata": {},
     "output_type": "execute_result"
    }
   ],
   "source": [
    "df_movie.head(5)"
   ]
  },
  {
   "cell_type": "code",
   "execution_count": 72,
   "metadata": {
    "scrolled": false
   },
   "outputs": [
    {
     "name": "stdout",
     "output_type": "stream",
     "text": [
      "0.0\n",
      "-2.220446049250313e-16\n",
      "0.010511804239186517\n"
     ]
    }
   ],
   "source": [
    "\n",
    "print(cohen_kappa_score(df_movie['worker1'].astype('category'),df_movie['worker2'].astype('category')))\n",
    "print(cohen_kappa_score(df_movie['worker1'].astype('category'),df_movie['worker3'].astype('category')))\n",
    "print(cohen_kappa_score(df_movie['worker2'].astype('category'),df_movie['worker3'].astype('category')))"
   ]
  },
  {
   "cell_type": "code",
   "execution_count": 73,
   "metadata": {},
   "outputs": [],
   "source": [
    "df_movie['orginal']= np.where((df_movie.orginal == 'neg'), 'Negative', df_movie.orginal)\n",
    "df_movie['orginal']= np.where((df_movie.orginal == 'pos'), 'Positive', df_movie.orginal)"
   ]
  },
  {
   "cell_type": "code",
   "execution_count": 77,
   "metadata": {},
   "outputs": [
    {
     "name": "stdout",
     "output_type": "stream",
     "text": [
      "0.0\n",
      "0.0\n",
      "0.0\n"
     ]
    }
   ],
   "source": [
    "print(cohen_kappa_score(df_movie['worker1'].astype('category'),df_movie['orginal'].astype('category')))\n",
    "print(cohen_kappa_score(df_movie['worker2'].astype('category'),df_movie['orginal'].astype('category')))\n",
    "print(cohen_kappa_score(df_movie['worker3'].astype('category'),df_movie['orginal'].astype('category')))"
   ]
  },
  {
   "cell_type": "code",
   "execution_count": null,
   "metadata": {},
   "outputs": [],
   "source": []
  }
 ],
 "metadata": {
  "kernelspec": {
   "display_name": "Python 3",
   "language": "python",
   "name": "python3"
  },
  "language_info": {
   "codemirror_mode": {
    "name": "ipython",
    "version": 3
   },
   "file_extension": ".py",
   "mimetype": "text/x-python",
   "name": "python",
   "nbconvert_exporter": "python",
   "pygments_lexer": "ipython3",
   "version": "3.7.3"
  }
 },
 "nbformat": 4,
 "nbformat_minor": 2
}
