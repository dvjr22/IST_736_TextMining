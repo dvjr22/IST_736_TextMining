{
 "cells": [
  {
   "cell_type": "code",
   "execution_count": 12,
   "metadata": {},
   "outputs": [],
   "source": [
    "import nltk\n",
    "import pandas as pd\n",
    "import sklearn\n",
    "import re  \n",
    "import os\n",
    "\n",
    "import pyLDAvis.sklearn as LDAvis\n",
    "import pyLDAvis\n",
    "\n",
    "from sklearn.feature_extraction.text import CountVectorizer\n",
    "from nltk.tokenize import word_tokenize\n",
    "from nltk.probability import FreqDist\n",
    "from nltk.corpus import stopwords\n",
    "## For Stemming\n",
    "\n",
    "\n",
    "from sklearn.decomposition import NMF, LatentDirichletAllocation\n",
    "\n",
    "import warnings\n",
    "warnings.filterwarnings('ignore')"
   ]
  },
  {
   "cell_type": "code",
   "execution_count": 13,
   "metadata": {},
   "outputs": [],
   "source": [
    "# functions\n",
    "def print_topics(model, vectorizer, top_n=10):\n",
    "    for idx, topic in enumerate(model.components_):\n",
    "        print(\"Topic %d:\" % (idx))\n",
    "        print([(vectorizer.get_feature_names()[i], topic[i])\n",
    "                        for i in topic.argsort()[:-top_n - 1:-1]])"
   ]
  },
  {
   "cell_type": "code",
   "execution_count": 14,
   "metadata": {},
   "outputs": [],
   "source": [
    "#csv_file = 'tables_v2/v2_coach_search_result_tweet_text_data_unique.csv'\n",
    "#csv_file = 'tables_v2/v2_nfl_tweets_master.csv'\n",
    "#csv_file = 'tables_v2/v2_player_search_result_tweet_text_data_unique.csv'\n",
    "#csv_file = 'tables_v2/v2_team_search_result_tweet_text_data_unique.csv'\n",
    "\n",
    "\n",
    "#csv_file = 'tables/coach_search_result_tweet_text_data_unique.csv'\n",
    "csv_file = 'tables/nfl_tweets_master.csv'\n",
    "#csv_file = 'tables/player_search_result_tweet_text_data_unique.csv'\n",
    "#csv_file = 'tables/team_search_result_tweet_text_data_unique.csv'\n",
    "\n",
    "df_coaches = pd.read_csv(csv_file)"
   ]
  },
  {
   "cell_type": "code",
   "execution_count": 15,
   "metadata": {},
   "outputs": [
    {
     "data": {
      "text/html": [
       "<div>\n",
       "<style scoped>\n",
       "    .dataframe tbody tr th:only-of-type {\n",
       "        vertical-align: middle;\n",
       "    }\n",
       "\n",
       "    .dataframe tbody tr th {\n",
       "        vertical-align: top;\n",
       "    }\n",
       "\n",
       "    .dataframe thead th {\n",
       "        text-align: right;\n",
       "    }\n",
       "</style>\n",
       "<table border=\"1\" class=\"dataframe\">\n",
       "  <thead>\n",
       "    <tr style=\"text-align: right;\">\n",
       "      <th></th>\n",
       "      <th>text</th>\n",
       "    </tr>\n",
       "  </thead>\n",
       "  <tbody>\n",
       "    <tr>\n",
       "      <th>0</th>\n",
       "      <td>You mean the same fan experts who could see La...</td>\n",
       "    </tr>\n",
       "    <tr>\n",
       "      <th>1</th>\n",
       "      <td>Deshaun Watson or Sam Darnold?  WhoShouldIStart</td>\n",
       "    </tr>\n",
       "    <tr>\n",
       "      <th>2</th>\n",
       "      <td>RT Top 5 current NFL quarterbacks   1. Tom Bra...</td>\n",
       "    </tr>\n",
       "    <tr>\n",
       "      <th>3</th>\n",
       "      <td>A NFL team I love: Browns A NFL team I like: P...</td>\n",
       "    </tr>\n",
       "    <tr>\n",
       "      <th>4</th>\n",
       "      <td>Deshaun Watson</td>\n",
       "    </tr>\n",
       "  </tbody>\n",
       "</table>\n",
       "</div>"
      ],
      "text/plain": [
       "                                                text\n",
       "0  You mean the same fan experts who could see La...\n",
       "1    Deshaun Watson or Sam Darnold?  WhoShouldIStart\n",
       "2  RT Top 5 current NFL quarterbacks   1. Tom Bra...\n",
       "3  A NFL team I love: Browns A NFL team I like: P...\n",
       "4                                     Deshaun Watson"
      ]
     },
     "execution_count": 15,
     "metadata": {},
     "output_type": "execute_result"
    }
   ],
   "source": [
    "df_coaches.head()"
   ]
  },
  {
   "cell_type": "code",
   "execution_count": 16,
   "metadata": {},
   "outputs": [],
   "source": [
    "my_list=[] # list to store results\n",
    "shortword = re.compile(r'\\W*\\b\\w{1,1}\\b') # filtering out all words with len <= 1\n",
    "my_list = [shortword.sub('', df_coaches.iloc[i,0]) for i in range(len(df_coaches))]"
   ]
  },
  {
   "cell_type": "code",
   "execution_count": 17,
   "metadata": {},
   "outputs": [],
   "source": [
    "no_features = 1000\n",
    "lda_cv = CountVectorizer(input=\"content\", analyzer = 'word', stop_words = 'english', lowercase = True, \n",
    "                         max_df = 0.95, min_df = 2, max_features = no_features, encoding=\"ISO-8859-1\")\n",
    "cv = lda_cv.fit_transform(my_list)"
   ]
  },
  {
   "cell_type": "code",
   "execution_count": 18,
   "metadata": {},
   "outputs": [
    {
     "data": {
      "text/html": [
       "<div>\n",
       "<style scoped>\n",
       "    .dataframe tbody tr th:only-of-type {\n",
       "        vertical-align: middle;\n",
       "    }\n",
       "\n",
       "    .dataframe tbody tr th {\n",
       "        vertical-align: top;\n",
       "    }\n",
       "\n",
       "    .dataframe thead th {\n",
       "        text-align: right;\n",
       "    }\n",
       "</style>\n",
       "<table border=\"1\" class=\"dataframe\">\n",
       "  <thead>\n",
       "    <tr style=\"text-align: right;\">\n",
       "      <th></th>\n",
       "      <th>00</th>\n",
       "      <th>000</th>\n",
       "      <th>01</th>\n",
       "      <th>03</th>\n",
       "      <th>07s</th>\n",
       "      <th>10</th>\n",
       "      <th>100</th>\n",
       "      <th>103</th>\n",
       "      <th>10maillotsen10jours</th>\n",
       "      <th>11</th>\n",
       "      <th>...</th>\n",
       "      <th>wr</th>\n",
       "      <th>wylie</th>\n",
       "      <th>yahoo</th>\n",
       "      <th>yards</th>\n",
       "      <th>yds</th>\n",
       "      <th>year</th>\n",
       "      <th>years</th>\n",
       "      <th>yes</th>\n",
       "      <th>young</th>\n",
       "      <th>yr</th>\n",
       "    </tr>\n",
       "  </thead>\n",
       "  <tbody>\n",
       "    <tr>\n",
       "      <th>0</th>\n",
       "      <td>0</td>\n",
       "      <td>0</td>\n",
       "      <td>0</td>\n",
       "      <td>0</td>\n",
       "      <td>0</td>\n",
       "      <td>0</td>\n",
       "      <td>0</td>\n",
       "      <td>0</td>\n",
       "      <td>0</td>\n",
       "      <td>0</td>\n",
       "      <td>...</td>\n",
       "      <td>0</td>\n",
       "      <td>0</td>\n",
       "      <td>0</td>\n",
       "      <td>0</td>\n",
       "      <td>0</td>\n",
       "      <td>0</td>\n",
       "      <td>0</td>\n",
       "      <td>0</td>\n",
       "      <td>0</td>\n",
       "      <td>0</td>\n",
       "    </tr>\n",
       "    <tr>\n",
       "      <th>1</th>\n",
       "      <td>0</td>\n",
       "      <td>0</td>\n",
       "      <td>0</td>\n",
       "      <td>0</td>\n",
       "      <td>0</td>\n",
       "      <td>0</td>\n",
       "      <td>0</td>\n",
       "      <td>0</td>\n",
       "      <td>0</td>\n",
       "      <td>0</td>\n",
       "      <td>...</td>\n",
       "      <td>0</td>\n",
       "      <td>0</td>\n",
       "      <td>0</td>\n",
       "      <td>0</td>\n",
       "      <td>0</td>\n",
       "      <td>0</td>\n",
       "      <td>0</td>\n",
       "      <td>0</td>\n",
       "      <td>0</td>\n",
       "      <td>0</td>\n",
       "    </tr>\n",
       "    <tr>\n",
       "      <th>2</th>\n",
       "      <td>0</td>\n",
       "      <td>0</td>\n",
       "      <td>0</td>\n",
       "      <td>0</td>\n",
       "      <td>0</td>\n",
       "      <td>0</td>\n",
       "      <td>0</td>\n",
       "      <td>0</td>\n",
       "      <td>0</td>\n",
       "      <td>0</td>\n",
       "      <td>...</td>\n",
       "      <td>0</td>\n",
       "      <td>0</td>\n",
       "      <td>0</td>\n",
       "      <td>0</td>\n",
       "      <td>0</td>\n",
       "      <td>0</td>\n",
       "      <td>0</td>\n",
       "      <td>0</td>\n",
       "      <td>0</td>\n",
       "      <td>0</td>\n",
       "    </tr>\n",
       "    <tr>\n",
       "      <th>3</th>\n",
       "      <td>0</td>\n",
       "      <td>0</td>\n",
       "      <td>0</td>\n",
       "      <td>0</td>\n",
       "      <td>0</td>\n",
       "      <td>0</td>\n",
       "      <td>0</td>\n",
       "      <td>0</td>\n",
       "      <td>0</td>\n",
       "      <td>0</td>\n",
       "      <td>...</td>\n",
       "      <td>0</td>\n",
       "      <td>0</td>\n",
       "      <td>0</td>\n",
       "      <td>0</td>\n",
       "      <td>0</td>\n",
       "      <td>0</td>\n",
       "      <td>0</td>\n",
       "      <td>0</td>\n",
       "      <td>0</td>\n",
       "      <td>0</td>\n",
       "    </tr>\n",
       "    <tr>\n",
       "      <th>4</th>\n",
       "      <td>0</td>\n",
       "      <td>0</td>\n",
       "      <td>0</td>\n",
       "      <td>0</td>\n",
       "      <td>0</td>\n",
       "      <td>0</td>\n",
       "      <td>0</td>\n",
       "      <td>0</td>\n",
       "      <td>0</td>\n",
       "      <td>0</td>\n",
       "      <td>...</td>\n",
       "      <td>0</td>\n",
       "      <td>0</td>\n",
       "      <td>0</td>\n",
       "      <td>0</td>\n",
       "      <td>0</td>\n",
       "      <td>0</td>\n",
       "      <td>0</td>\n",
       "      <td>0</td>\n",
       "      <td>0</td>\n",
       "      <td>0</td>\n",
       "    </tr>\n",
       "  </tbody>\n",
       "</table>\n",
       "<p>5 rows × 1000 columns</p>\n",
       "</div>"
      ],
      "text/plain": [
       "   00  000  01  03  07s  10  100  103  10maillotsen10jours  11  ...  wr  \\\n",
       "0   0    0   0   0    0   0    0    0                    0   0  ...   0   \n",
       "1   0    0   0   0    0   0    0    0                    0   0  ...   0   \n",
       "2   0    0   0   0    0   0    0    0                    0   0  ...   0   \n",
       "3   0    0   0   0    0   0    0    0                    0   0  ...   0   \n",
       "4   0    0   0   0    0   0    0    0                    0   0  ...   0   \n",
       "\n",
       "   wylie  yahoo  yards  yds  year  years  yes  young  yr  \n",
       "0      0      0      0    0     0      0    0      0   0  \n",
       "1      0      0      0    0     0      0    0      0   0  \n",
       "2      0      0      0    0     0      0    0      0   0  \n",
       "3      0      0      0    0     0      0    0      0   0  \n",
       "4      0      0      0    0     0      0    0      0   0  \n",
       "\n",
       "[5 rows x 1000 columns]"
      ]
     },
     "execution_count": 18,
     "metadata": {},
     "output_type": "execute_result"
    }
   ],
   "source": [
    "CV = lda_cv.fit_transform(my_list)\n",
    "lda_columns = lda_cv.get_feature_names()\n",
    "df_corpus_lda = pd.DataFrame(CV.toarray(),columns = lda_columns)\n",
    "df_corpus_lda.head()"
   ]
  },
  {
   "cell_type": "code",
   "execution_count": 19,
   "metadata": {},
   "outputs": [],
   "source": [
    "no_topics = 5\n",
    "max_iterations = 10\n",
    "learn_off = 50\n",
    "random = 0\n",
    "\n",
    "lda_model = LatentDirichletAllocation(n_components = no_topics, max_iter = max_iterations, learning_method='online',\n",
    "                                         learning_offset = learn_off,random_state = random)\n",
    "#lda_model = LatentDirichletAllocation(n_components=NUM_TOPICS, max_iter=10, learning_method='online')\n",
    "LDA_DH_Model = lda_model.fit_transform(CV)"
   ]
  },
  {
   "cell_type": "code",
   "execution_count": 20,
   "metadata": {},
   "outputs": [
    {
     "name": "stdout",
     "output_type": "stream",
     "text": [
      "(10089, 5)\n",
      "[0.35564008 0.55821145 0.02873212 0.02871924 0.02869711]\n"
     ]
    }
   ],
   "source": [
    "print(LDA_DH_Model.shape) # docs | topics\n",
    "print(LDA_DH_Model[0])"
   ]
  },
  {
   "cell_type": "code",
   "execution_count": 21,
   "metadata": {},
   "outputs": [
    {
     "name": "stdout",
     "output_type": "stream",
     "text": [
      "Topic 0:\n",
      "[('watson', 1133.1372335116298), ('yr', 1132.5586796895684), ('deshaun', 1083.4415245305202), ('7m', 323.525537366837), ('game', 302.9915057956501), ('rt', 261.7479736646498), ('astros', 244.72134278460953), ('clemson', 244.55490788455012), ('season', 239.62478814822123), ('mahomes', 221.03740492759553)]\n",
      "Topic 1:\n",
      "[('deshaun', 1412.427528280317), ('watson', 1409.6878223628619), ('mahomes', 637.0957989409143), ('patrick', 518.2868189598968), ('qbs', 507.00505463195987), ('qb', 424.81987098857235), ('lamar', 407.2911039796762), ('jackson', 394.85530688272763), ('defense', 388.65597982026213), ('patriots', 380.6680927155648)]\n",
      "Topic 2:\n",
      "[('watson', 790.9981974278076), ('deshaun', 539.0893910205733), ('texans', 527.1940485655715), ('games', 478.7254300708557), ('work', 388.93511091855447), ('yards', 353.79418595272256), ('texas', 339.60983258353116), ('want', 338.40213801893856), ('drop', 312.5183769284415), ('fellow', 292.9246472220239)]\n",
      "Topic 3:\n",
      "[('texans', 1880.4971088959207), ('week', 894.9563164715845), ('nfl', 807.6754364445966), ('vs', 652.094658793316), ('game', 636.7409913427107), ('watson', 531.1751441569388), ('deshaun', 457.31337581363306), ('team', 430.9665041896977), ('football', 397.4265626353018), ('new', 312.5049316525194)]\n",
      "Topic 4:\n",
      "[('houston', 4880.7397387517985), ('texans', 3241.1315926165385), ('rt', 1563.1871766636048), ('tx', 872.3317952990673), ('october', 861.7413223270514), ('amp', 648.6389947246898), ('watson', 516.8941878479267), ('deshaun', 516.5338309528998), ('jaguars', 461.73857398674824), ('win', 414.93623883427927)]\n"
     ]
    }
   ],
   "source": [
    "print_topics(lda_model, lda_cv)"
   ]
  },
  {
   "cell_type": "code",
   "execution_count": 22,
   "metadata": {},
   "outputs": [
    {
     "name": "stdout",
     "output_type": "stream",
     "text": [
      "\n",
      "Note: if you're in the IPython notebook, pyLDAvis.show() is not the best command\n",
      "      to use. Consider using pyLDAvis.display(), or pyLDAvis.enable_notebook().\n",
      "      See more information at http://pyLDAvis.github.io/quickstart.html .\n",
      "\n",
      "You must interrupt the kernel to end this command\n",
      "\n",
      "Serving to http://127.0.0.1:8891/    [Ctrl-C to exit]\n"
     ]
    },
    {
     "name": "stderr",
     "output_type": "stream",
     "text": [
      "127.0.0.1 - - [04/Dec/2019 18:20:09] \"GET / HTTP/1.1\" 200 -\n",
      "127.0.0.1 - - [04/Dec/2019 18:20:09] \"GET /LDAvis.css HTTP/1.1\" 200 -\n",
      "127.0.0.1 - - [04/Dec/2019 18:20:09] \"GET /d3.js HTTP/1.1\" 200 -\n",
      "127.0.0.1 - - [04/Dec/2019 18:20:10] \"GET /LDAvis.js HTTP/1.1\" 200 -\n"
     ]
    },
    {
     "name": "stdout",
     "output_type": "stream",
     "text": [
      "\n",
      "stopping Server...\n"
     ]
    }
   ],
   "source": [
    "panel = LDAvis.prepare(lda_model, CV, lda_cv, mds='tsne')\n",
    "'''\n",
    "Note: if you're in the IPython notebook, pyLDAvis.show() is not the best command\n",
    "      to use. Consider using pyLDAvis.display(), or pyLDAvis.enable_notebook().\n",
    "'''\n",
    "pyLDAvis.show(panel)"
   ]
  },
  {
   "cell_type": "code",
   "execution_count": null,
   "metadata": {},
   "outputs": [],
   "source": []
  }
 ],
 "metadata": {
  "kernelspec": {
   "display_name": "Python 3",
   "language": "python",
   "name": "python3"
  },
  "language_info": {
   "codemirror_mode": {
    "name": "ipython",
    "version": 3
   },
   "file_extension": ".py",
   "mimetype": "text/x-python",
   "name": "python",
   "nbconvert_exporter": "python",
   "pygments_lexer": "ipython3",
   "version": "3.7.3"
  }
 },
 "nbformat": 4,
 "nbformat_minor": 2
}
